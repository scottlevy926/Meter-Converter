{
 "cells": [
  {
   "cell_type": "markdown",
   "metadata": {},
   "source": [
    "# Distance Converter\n",
    "Program distnce in meters to kilometers, inches, or feet.\n",
    "\n",
    "Input: Distance in meters\n",
    "Output: Display converted meter distance \n",
    "\n",
    "Date: 9/26/2019"
   ]
  },
  {
   "cell_type": "code",
   "execution_count": null,
   "metadata": {},
   "outputs": [],
   "source": [
    "#define functions\n",
    "def meter_to_kilometer(meter):\n",
    "    kilometers= meter * 0.001\n",
    "    print(meter, \"meters is equivalent to %.2f\" %kilometers, \"kilometers\")\n",
    "\n",
    "def meter_to_inches(meter):\n",
    "    inches= meter * 39.37\n",
    "    print(meter, \"meters is equivalent to %.2f\" %inches, \"inches\")\n",
    "    \n",
    "def meter_to_feet(meter):\n",
    "    feet= meter * 3.281\n",
    "    print(meter, \"meters is equivalent to %.2f\" %feet, \"feet\")\n",
    "\n",
    "#get user input    \n",
    "print(\"Please enter a distance in meters\")\n",
    "meter=float(input())\n",
    "\n",
    "#display available options\n",
    "print(\"Please choose from the following options:\")\n",
    "print(\"1.  convert tp kilometers\")\n",
    "print(\"2.  convert to inches\")\n",
    "print(\"3.  convert to feet\")\n",
    "\n",
    "#get user selection\n",
    "print(\"Please choose from the options of 1,2, or 3\")\n",
    "selection=int(input())\n",
    "\n",
    "#call function\n",
    "if selection== 1:\n",
    "    meter_to_kilometer(meter)    \n",
    "elif selection== 2:\n",
    "    meter_to_inches(meter)    \n",
    "elif selection== 3:\n",
    "    meter_to_feet(meter) \n",
    "else:\n",
    "    print(\"Please select a valid option\")\n",
    "    \n"
   ]
  },
  {
   "cell_type": "code",
   "execution_count": null,
   "metadata": {},
   "outputs": [],
   "source": []
  }
 ],
 "metadata": {
  "kernelspec": {
   "display_name": "Python 3",
   "language": "python",
   "name": "python3"
  },
  "language_info": {
   "codemirror_mode": {
    "name": "ipython",
    "version": 3
   },
   "file_extension": ".py",
   "mimetype": "text/x-python",
   "name": "python",
   "nbconvert_exporter": "python",
   "pygments_lexer": "ipython3",
   "version": "3.7.3"
  }
 },
 "nbformat": 4,
 "nbformat_minor": 2
}
